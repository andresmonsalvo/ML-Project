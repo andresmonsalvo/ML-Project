{
 "cells": [
  {
   "cell_type": "code",
   "execution_count": 5,
   "metadata": {},
   "outputs": [],
   "source": [
    "import numpy as np"
   ]
  },
  {
   "cell_type": "code",
   "execution_count": 2,
   "metadata": {},
   "outputs": [],
   "source": [
    "import cv2"
   ]
  },
  {
   "cell_type": "markdown",
   "metadata": {},
   "source": [
    "### Following some independent exercises with images and drawings"
   ]
  },
  {
   "cell_type": "markdown",
   "metadata": {},
   "source": [
    "### img fundamentals"
   ]
  },
  {
   "cell_type": "code",
   "execution_count": 3,
   "metadata": {},
   "outputs": [],
   "source": [
    "# read an img and write it with a different extension \n",
    "img=cv2.imread('am3.png')\n",
    "img=cv2.imwrite('am3.jpg', img)\n",
    "cv2.imshow('original', img)\n",
    "cv2.waitKey(0)\n",
    "cv2.destroyAllWindows()"
   ]
  },
  {
   "cell_type": "code",
   "execution_count": 4,
   "metadata": {},
   "outputs": [],
   "source": [
    "# read new image\n",
    "img=cv2.imread('am3.jpg')\n",
    "cv2.imshow('original', img)\n",
    "cv2.waitKey(0)\n",
    "cv2.destroyAllWindows()"
   ]
  },
  {
   "cell_type": "code",
   "execution_count": 5,
   "metadata": {},
   "outputs": [],
   "source": [
    "# create a rectangle\n",
    "pic = np.zeros((500,500,3),dtype='uint8')\n",
    "\n",
    "cv2.rectangle(pic,(0,0),(500,150),(123,212,98),3,lineType=8,shift=0)\n",
    "\n",
    "cv2.imshow('dark', pic)\n",
    "cv2.waitKey(0)\n",
    "cv2.destroyAllWindows()"
   ]
  },
  {
   "cell_type": "code",
   "execution_count": 6,
   "metadata": {},
   "outputs": [],
   "source": [
    "# create a line\n",
    "pic = np.zeros((500,500,3),dtype='uint8')\n",
    "\n",
    "cv2.line(pic,(350,350),(500,350),(0,0,255))\n",
    "\n",
    "cv2.imshow('dark', pic)\n",
    "cv2.waitKey(0)\n",
    "cv2.destroyAllWindows()"
   ]
  },
  {
   "cell_type": "code",
   "execution_count": 7,
   "metadata": {},
   "outputs": [],
   "source": [
    "# create circles\n",
    "pic = np.zeros((500,500,3),dtype='uint8')\n",
    "\n",
    "color=(255,0,255)\n",
    "\n",
    "cv2.circle(pic,(250,250),50,color)\n",
    "cv2.circle(pic,(250,250),75,color)\n",
    "\n",
    "cv2.imshow('dark', pic)\n",
    "cv2.waitKey(0)\n",
    "cv2.destroyAllWindows()"
   ]
  },
  {
   "cell_type": "code",
   "execution_count": 8,
   "metadata": {},
   "outputs": [],
   "source": [
    "# create text\n",
    "pic = np.zeros((500,500,3),dtype='uint8')\n",
    "\n",
    "font=cv2.FONT_HERSHEY_DUPLEX\n",
    "cv2.putText(pic, 'Udemy',(100,100),font,3,(255,255,255),4,cv2.LINE_8)\n",
    "\n",
    "cv2.imshow('dark', pic)\n",
    "cv2.waitKey(0)\n",
    "cv2.destroyAllWindows()"
   ]
  },
  {
   "cell_type": "code",
   "execution_count": 9,
   "metadata": {},
   "outputs": [],
   "source": [
    "# create combination\n",
    "pic = np.zeros((500,500,3),dtype='uint8')\n",
    "\n",
    "cv2.rectangle(pic,(0,0),(500,150),(123,212,98),3,lineType=8,shift=0)\n",
    "font=cv2.FONT_HERSHEY_DUPLEX\n",
    "cv2.putText(pic, 'Udemy',(100,100),font,3,(255,255,255),3,cv2.LINE_8)\n",
    "cv2.circle(pic,(250,250),50,(255,0,255))\n",
    "cv2.line(pic,(133,138),(388,133),(0,0,255))\n",
    "\n",
    "cv2.imshow('dark', pic)\n",
    "cv2.waitKey(0)\n",
    "cv2.destroyAllWindows()"
   ]
  },
  {
   "cell_type": "markdown",
   "metadata": {},
   "source": [
    "### img processing"
   ]
  },
  {
   "cell_type": "code",
   "execution_count": 10,
   "metadata": {},
   "outputs": [],
   "source": [
    "# img transformation\n",
    "pic=cv2.imread('am3.jpg')\n",
    "cols=pic.shape[1]\n",
    "rows=pic.shape[0]\n",
    "\n",
    "M=np.float32([[1,0,150],[0,1,70]])\n",
    "\n",
    "shifted=cv2.warpAffine(pic,M,(cols,rows))\n",
    "\n",
    "cv2.imshow('shifted', shifted)\n",
    "\n",
    "cv2.waitKey(0)\n",
    "cv2.destroyAllWindows()"
   ]
  },
  {
   "cell_type": "code",
   "execution_count": 11,
   "metadata": {},
   "outputs": [],
   "source": [
    "# img rotation\n",
    "pic=cv2.imread('am3.jpg')\n",
    "cols=pic.shape[0]\n",
    "rows=pic.shape[1]\n",
    "center=(cols/2,rows/2)\n",
    "angle=-90\n",
    "\n",
    "M=cv2.getRotationMatrix2D(center,angle,1)\n",
    "rotate=cv2.warpAffine(pic,M,(cols,rows))\n",
    "\n",
    "cv2.imshow('rotated', rotate)\n",
    "\n",
    "cv2.waitKey(0)\n",
    "cv2.destroyAllWindows()"
   ]
  },
  {
   "cell_type": "code",
   "execution_count": 12,
   "metadata": {},
   "outputs": [],
   "source": [
    "# img thresholding,picture in greyscale,it shows where the pixels are higher or lower than threshold\n",
    "\n",
    "pic=cv2.imread('am3.jpg',0) \n",
    "\n",
    "threshold_value = 200\n",
    "\n",
    "(T_value,binary_threshold)=cv2.threshold(pic,threshold_value,255,cv2.THRESH_BINARY)\n",
    "\n",
    "#(T_value,binary_threshold)=cv2.threshold(pic,threshold_value,255,cv2.THRESH_BINARY_INV)\n",
    "\n",
    "cv2.imshow('binary',binary_threshold)\n",
    "\n",
    "cv2.waitKey()\n",
    "cv2.destroyAllWindows()"
   ]
  },
  {
   "cell_type": "markdown",
   "metadata": {},
   "source": [
    "### img filtering "
   ]
  },
  {
   "cell_type": "code",
   "execution_count": 13,
   "metadata": {},
   "outputs": [],
   "source": [
    "pic=cv2.imread('am.jpg',0) \n",
    "\n",
    "matrix=(7,7)\n",
    "\n",
    "blur=cv2.GaussianBlur(pic, matrix, 0)\n",
    "\n",
    "cv2.imshow('blurred', blur)\n",
    "\n",
    "cv2.waitKey()\n",
    "cv2.destroyAllWindows()"
   ]
  },
  {
   "cell_type": "code",
   "execution_count": 14,
   "metadata": {},
   "outputs": [],
   "source": [
    "pic=cv2.imread('am.jpg',0) \n",
    "\n",
    "kernal=3\n",
    "\n",
    "median=cv2.medianBlur(pic, kernal)\n",
    "\n",
    "#cv2.imshow('median', median) #with median blur\n",
    "cv2.imshow('median', pic) #without blur\n",
    "\n",
    "cv2.waitKey()\n",
    "cv2.destroyAllWindows()"
   ]
  },
  {
   "cell_type": "code",
   "execution_count": 15,
   "metadata": {},
   "outputs": [],
   "source": [
    "pic=cv2.imread('am.jpg',0) \n",
    "\n",
    "kernal=3\n",
    "\n",
    "median=cv2.medianBlur(pic, kernal)\n",
    "\n",
    "#cv2.imshow('median', median) #with median blur\n",
    "cv2.imshow('median', pic) #without blur\n",
    "\n",
    "cv2.waitKey()\n",
    "cv2.destroyAllWindows()"
   ]
  },
  {
   "cell_type": "code",
   "execution_count": 16,
   "metadata": {},
   "outputs": [],
   "source": [
    "pic=cv2.imread('am.jpg',0) \n",
    "\n",
    "dimpixel=7\n",
    "color=100\n",
    "space=100\n",
    "\n",
    "filter=cv2.bilateralFilter(pic, dimpixel,color,space)\n",
    "\n",
    "cv2.imshow('filter', filter)\n",
    "\n",
    "cv2.waitKey(0)\n",
    "cv2.destroyAllWindows()"
   ]
  },
  {
   "cell_type": "markdown",
   "metadata": {},
   "source": [
    "### feature detection"
   ]
  },
  {
   "cell_type": "code",
   "execution_count": 17,
   "metadata": {},
   "outputs": [],
   "source": [
    "pic=cv2.imread('am.jpg')\n",
    "\n",
    "thresholdval1=50\n",
    "thresholdval2=100\n",
    "\n",
    "canny=cv2.Canny(pic,thresholdval1,thresholdval2)\n",
    "\n",
    "cv2.imshow('canny', canny)\n",
    "\n",
    "cv2.waitKey(0)\n",
    "cv2.destroyAllWindows()"
   ]
  },
  {
   "cell_type": "markdown",
   "metadata": {},
   "source": [
    "### video analysis"
   ]
  },
  {
   "cell_type": "code",
   "execution_count": 18,
   "metadata": {},
   "outputs": [],
   "source": [
    "# cap=cv2.VideoCapture('SampleVideo.mp4')\n",
    "\n",
    "#while(cap.isOpened()):\n",
    "#    ret, frame=cap.read()\n",
    "#    cv2.imshow('vid',frame)\n",
    "#    if cv2.waitKey(1) & 0xFF == ord('q'):\n",
    "#        break\n",
    "#cap.release()\n",
    "#cv2.destroyAllWindows()"
   ]
  },
  {
   "cell_type": "code",
   "execution_count": 19,
   "metadata": {},
   "outputs": [],
   "source": [
    "#cap=cv2.VideoCapture('SampleVideo.mp4')\n",
    "#fourcc=cv2.VideoWriter_fourcc(*'XVID')\n",
    "#fps=30\n",
    "#framesize=(720,480)\n",
    "#out=cv2.VideoWriter('sample.avi',fourcc,fps,framesize)\n",
    "\n",
    "#while(cap.isOpened()):\n",
    "#    ret, frame=cap.read()\n",
    "#    cv2.imshow('frame',frame)\n",
    "#    if cv2.waitKey(1) & 0xFF == ord('q'):\n",
    "#        break\n",
    "#out.release()\n",
    "#cap.release()\n",
    "#cv2.destroyAllWindows()"
   ]
  },
  {
   "cell_type": "markdown",
   "metadata": {},
   "source": [
    "### Applications"
   ]
  },
  {
   "cell_type": "markdown",
   "metadata": {},
   "source": [
    "### face detection in video"
   ]
  },
  {
   "cell_type": "code",
   "execution_count": 21,
   "metadata": {},
   "outputs": [],
   "source": [
    "#import cv2\n",
    "#import numpy as np\n",
    "\n",
    "#face_cascade = cv2.CascadeClassifier('haarcascade_frontalface_default.xml')\n",
    "\n",
    "#videocapture = cv2.VideoCapture(0)\n",
    "#scale_factor = 1.3\n",
    "\n",
    "#while 1:\n",
    "    \n",
    "#    ret, pic = videocapture.read()\n",
    "#    \n",
    "#    faces = face_cascade.detectMultiScale(pic,scale_factor,5)\n",
    "#    \n",
    "#    for (x,y,w,h) in faces:\n",
    "#        cv2.rectangle(pic,(x,y),(x+w,y+h),(255,0,0),2)\n",
    "#        font = cv2.FONT_HERSHEY_SIMPLEX\n",
    "#        cv2.putText(pic, 'me',(x,y),font,2,(255,255,255),2,cv2.LINE_AA)\n",
    "#        \n",
    "#    print(\"Number of faces found {}\".format(len(faces)))\n",
    "#    cv2.imshow('faces', pic)\n",
    "#    k = cv2.waitKey(30) & 0xff\n",
    "#    if k == 2:\n",
    "#            break\n",
    "            \n",
    "#cv2.destroyAllWindows()    2"
   ]
  },
  {
   "cell_type": "markdown",
   "metadata": {},
   "source": [
    "### face detection in image"
   ]
  },
  {
   "cell_type": "code",
   "execution_count": 22,
   "metadata": {},
   "outputs": [
    {
     "ename": "error",
     "evalue": "OpenCV(4.0.1) C:\\ci\\opencv-suite_1573470242804\\work\\modules\\objdetect\\src\\cascadedetect.cpp:1658: error: (-215:Assertion failed) !empty() in function 'cv::CascadeClassifier::detectMultiScale'\n",
     "output_type": "error",
     "traceback": [
      "\u001b[1;31m---------------------------------------------------------------------------\u001b[0m",
      "\u001b[1;31merror\u001b[0m                                     Traceback (most recent call last)",
      "\u001b[1;32m<ipython-input-22-b222ae46f628>\u001b[0m in \u001b[0;36m<module>\u001b[1;34m\u001b[0m\n\u001b[0;32m     10\u001b[0m \u001b[1;32mwhile\u001b[0m \u001b[1;36m1\u001b[0m\u001b[1;33m:\u001b[0m\u001b[1;33m\u001b[0m\u001b[1;33m\u001b[0m\u001b[0m\n\u001b[0;32m     11\u001b[0m \u001b[1;33m\u001b[0m\u001b[0m\n\u001b[1;32m---> 12\u001b[1;33m     \u001b[0mfaces\u001b[0m \u001b[1;33m=\u001b[0m \u001b[0mface_cascade\u001b[0m\u001b[1;33m.\u001b[0m\u001b[0mdetectMultiScale\u001b[0m\u001b[1;33m(\u001b[0m\u001b[0mpic\u001b[0m\u001b[1;33m,\u001b[0m\u001b[0mscale_factor\u001b[0m\u001b[1;33m,\u001b[0m\u001b[1;36m5\u001b[0m\u001b[1;33m)\u001b[0m\u001b[1;33m\u001b[0m\u001b[1;33m\u001b[0m\u001b[0m\n\u001b[0m\u001b[0;32m     13\u001b[0m \u001b[1;33m\u001b[0m\u001b[0m\n\u001b[0;32m     14\u001b[0m     \u001b[1;32mfor\u001b[0m \u001b[1;33m(\u001b[0m\u001b[0mx\u001b[0m\u001b[1;33m,\u001b[0m\u001b[0my\u001b[0m\u001b[1;33m,\u001b[0m\u001b[0mw\u001b[0m\u001b[1;33m,\u001b[0m\u001b[0mh\u001b[0m\u001b[1;33m)\u001b[0m \u001b[1;32min\u001b[0m \u001b[0mfaces\u001b[0m\u001b[1;33m:\u001b[0m\u001b[1;33m\u001b[0m\u001b[1;33m\u001b[0m\u001b[0m\n",
      "\u001b[1;31merror\u001b[0m: OpenCV(4.0.1) C:\\ci\\opencv-suite_1573470242804\\work\\modules\\objdetect\\src\\cascadedetect.cpp:1658: error: (-215:Assertion failed) !empty() in function 'cv::CascadeClassifier::detectMultiScale'\n"
     ]
    }
   ],
   "source": [
    "import cv2\n",
    "import numpy as np\n",
    "\n",
    "#https://github.com/opencv/opencv/tree/master/data/haarcascades\n",
    "face_cascade = cv2.CascadeClassifier('haarcascade_frontalface_default.xml')\n",
    "\n",
    "pic=cv2.imread('am.jpg')\n",
    "scale_factor = 1.3\n",
    "\n",
    "while 1:\n",
    "    \n",
    "    faces = face_cascade.detectMultiScale(pic,scale_factor,5)\n",
    "    \n",
    "    for (x,y,w,h) in faces:\n",
    "        cv2.rectangle(pic,(x,y),(x+w,y+h),(255,0,0),2)\n",
    "        font = cv2.FONT_HERSHEY_SIMPLEX\n",
    "        cv2.putText(pic, 'me',(x,y),font,2,(255,255,255),2,cv2.LINE_AA)\n",
    "        \n",
    "    print(\"Number of faces found {}\".format(len(faces)))\n",
    "    cv2.imshow('face', pic)\n",
    "    k = cv2.waitKey(30) & 0xff\n",
    "    if k == 2:\n",
    "            break\n",
    "            \n",
    "cv2.destroyAllWindows()  "
   ]
  },
  {
   "cell_type": "code",
   "execution_count": null,
   "metadata": {},
   "outputs": [],
   "source": []
  }
 ],
 "metadata": {
  "kernelspec": {
   "display_name": "Python 3",
   "language": "python",
   "name": "python3"
  },
  "language_info": {
   "codemirror_mode": {
    "name": "ipython",
    "version": 3
   },
   "file_extension": ".py",
   "mimetype": "text/x-python",
   "name": "python",
   "nbconvert_exporter": "python",
   "pygments_lexer": "ipython3",
   "version": "3.8.3"
  }
 },
 "nbformat": 4,
 "nbformat_minor": 4
}
